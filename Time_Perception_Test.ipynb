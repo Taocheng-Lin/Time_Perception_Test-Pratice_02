{
 "cells": [
  {
   "cell_type": "markdown",
   "id": "db5434a9",
   "metadata": {},
   "source": [
    "# 時間感測試"
   ]
  },
  {
   "cell_type": "markdown",
   "id": "849c42ef",
   "metadata": {},
   "source": [
    "## 導入套件，隨機產生整數"
   ]
  },
  {
   "cell_type": "code",
   "execution_count": 1,
   "id": "46ba319f",
   "metadata": {},
   "outputs": [
    {
     "data": {
      "text/plain": [
       "3"
      ]
     },
     "execution_count": 1,
     "metadata": {},
     "output_type": "execute_result"
    }
   ],
   "source": [
    "import random\n",
    "import time\n",
    "\n",
    "random.randint(1,10)"
   ]
  },
  {
   "cell_type": "markdown",
   "id": "e3ccceb4",
   "metadata": {},
   "source": [
    "## 時間感測器 - 主程式"
   ]
  },
  {
   "cell_type": "code",
   "execution_count": 7,
   "id": "37824d3e",
   "metadata": {},
   "outputs": [
    {
     "name": "stdout",
     "output_type": "stream",
     "text": [
      "4 秒時間感測，準備好後就案 Enter 鍵開始 !\n",
      "開始計時! 按 Enter 鍵結束計時 !\n",
      "你的秒數: 11.31\n",
      "誤差秒數: 7.31\n",
      "準確度: -0.83\n",
      "要再試一次嗎? (yes/no)\n",
      "無效代碼\n"
     ]
    }
   ],
   "source": [
    "while (True):\n",
    "    t=random.randint(1,10)\n",
    "    input(str(t)+' 秒時間感測，準備好後就案 Enter 鍵開始 !')\n",
    "    start=time.time()\n",
    "    \n",
    "    input('開始計時! 按 Enter 鍵結束計時 !')\n",
    "    end=time.time()\n",
    "    \n",
    "    seconds=end-start\n",
    "    print(\"你的秒數:\",round(seconds,2))\n",
    "    \n",
    "    error=abs(t-seconds)\n",
    "    print(\"誤差秒數:\",round(error,2))\n",
    "    \n",
    "    acc=round(1-(error/t),2)\n",
    "    print(\"準確度:\",acc)\n",
    "    \n",
    "    try_again=input(\"要再試一次嗎? (yes/no)\")\n",
    "    if try_again==\"yes\":\n",
    "        continue\n",
    "    elif try_again==\"no\":\n",
    "        break\n",
    "    else:\n",
    "        print(\"無效代碼\")\n",
    "        break\n",
    "    "
   ]
  }
 ],
 "metadata": {
  "kernelspec": {
   "display_name": "Python 3 (ipykernel)",
   "language": "python",
   "name": "python3"
  },
  "language_info": {
   "codemirror_mode": {
    "name": "ipython",
    "version": 3
   },
   "file_extension": ".py",
   "mimetype": "text/x-python",
   "name": "python",
   "nbconvert_exporter": "python",
   "pygments_lexer": "ipython3",
   "version": "3.10.2"
  }
 },
 "nbformat": 4,
 "nbformat_minor": 5
}
